{
 "cells": [
  {
   "cell_type": "code",
   "execution_count": 4,
   "id": "9a3efd36-c79a-4d35-992e-3401b8ea868a",
   "metadata": {},
   "outputs": [],
   "source": [
    "import tensorflow as tf\n",
    "from tensorflow.keras import layers, applications, models\n",
    "import numpy as np\n",
    "from utilities.distiller import Distiller\n",
    "from utilities.spots_10_loader import SPOT10Loader\n",
    "import pandas as pd\n",
    "import os"
   ]
  },
  {
   "cell_type": "code",
   "execution_count": null,
   "id": "ff1e9e3b-4ef9-4fbc-8a65-2cfeb4d99451",
   "metadata": {},
   "outputs": [],
   "source": []
  },
  {
   "cell_type": "code",
   "execution_count": 9,
   "id": "d1870eb4-108d-4157-ac79-2032c2053a6a",
   "metadata": {},
   "outputs": [],
   "source": [
    "def create_teacher_model(model_name=\"MobileNet\", input_shape=(32, 32, 3), num_classes=10):\n",
    "    base_model = getattr(applications, model_name)(\n",
    "        weights=\"imagenet\",\n",
    "        include_top=False,\n",
    "        input_shape=input_shape\n",
    "    )\n",
    "\n",
    "    teacher = models.Sequential([\n",
    "        base_model,\n",
    "        layers.GlobalAveragePooling2D(),\n",
    "        layers.Dense(num_classes)\n",
    "    ])\n",
    "\n",
    "    return teacher"
   ]
  },
  {
   "cell_type": "code",
   "execution_count": 5,
   "id": "81b3d859-89f1-4d58-9147-16d6b3269fa5",
   "metadata": {},
   "outputs": [],
   "source": [
    "def create_student_model(input_shape=(32, 32, 3), num_classes=10):\n",
    "    student = models.Sequential([\n",
    "        layers.Input(shape=input_shape),\n",
    "        layers.Conv2D(32, (3, 3), strides=(2, 2), padding=\"same\"),\n",
    "        layers.LeakyReLU(alpha=0.2),\n",
    "        layers.MaxPooling2D(pool_size=(2, 2), strides=(1, 1), padding=\"same\"),\n",
    "\n",
    "        layers.Conv2D(64, (3, 3), strides=(2, 2), padding=\"same\"),\n",
    "        layers.LeakyReLU(alpha=0.2),\n",
    "        layers.MaxPooling2D(pool_size=(2, 2), strides=(1, 1), padding=\"same\"),\n",
    "\n",
    "        layers.Conv2D(64, (3, 3), strides=(2, 2), padding=\"same\"),\n",
    "        layers.Flatten(),\n",
    "        layers.Dense(num_classes),\n",
    "    ], name=\"student\")\n",
    "\n",
    "    return student\n"
   ]
  },
  {
   "cell_type": "code",
   "execution_count": 4,
   "id": "ed940a24-869e-407c-ac80-07e55346bbca",
   "metadata": {},
   "outputs": [],
   "source": [
    "def load_data(dataset_dir=\"dataset\", kind=\"train\", input_shape=(32, 32, 3)):\n",
    "    x_data, y_label = SPOT10Loader.get_data(dataset_dir=dataset_dir, kind=kind)\n",
    "\n",
    "    x_data = x_data.astype('float32') / 255.0\n",
    "    x_data = np.expand_dims(x_data, axis=-1)\n",
    "    y_label = np.expand_dims(y_label, axis=-1)\n",
    "    x_data = np.repeat(x_data, 3, axis=-1)\n",
    "\n",
    "    return x_data, y_label"
   ]
  },
  {
   "cell_type": "code",
   "execution_count": 5,
   "id": "d4bc0ee6-09ac-4889-a0f7-bbd2e3b3944b",
   "metadata": {},
   "outputs": [],
   "source": [
    "x_train, y_train = load_data(dataset_dir=\"dataset\", kind=\"train\", input_shape=(32, 32, 3))\n",
    "x_test, y_test = load_data(dataset_dir=\"dataset\", kind=\"test\", input_shape=(32, 32, 3))"
   ]
  },
  {
   "cell_type": "code",
   "execution_count": null,
   "id": "01a622ec-ce92-4c51-b713-000aa8f8bace",
   "metadata": {},
   "outputs": [],
   "source": []
  },
  {
   "cell_type": "code",
   "execution_count": 6,
   "id": "ddd6cf2a-5b5e-4292-aec8-30f30a19c303",
   "metadata": {},
   "outputs": [],
   "source": [
    "# \"MobileNet\", \"ResNet50\", \"MobileNetV2\", \"DenseNet121\", \n",
    "# \"NASNetMobile\", \"MobileNetV3Small\", \"ResNet101\", \n",
    "# MobileNetV3Large, \"ResNet50V2\", \"ResNet101V2\"\n",
    "teacher_names=[\"ResNet50V2\", \"ResNet101V2\"]"
   ]
  },
  {
   "cell_type": "code",
   "execution_count": null,
   "id": "1cf95f77-2340-432a-9015-6e8062a8df3d",
   "metadata": {},
   "outputs": [],
   "source": [
    "student = create_student_model()\n",
    "\n",
    "for teacher_name in teacher_names:\n",
    "    print(\"Training benchmark model: \", teacher_name, \"...\")\n",
    "    teacher = create_teacher_model(model_name=teacher_name)\n",
    "\n",
    "    distiller = Distiller(student=student, teacher=teacher)\n",
    "    distiller.compile(\n",
    "        optimizer=tf.keras.optimizers.Adam(),\n",
    "        metrics=[tf.keras.metrics.SparseCategoricalAccuracy()],\n",
    "        student_loss_fn=tf.keras.losses.SparseCategoricalCrossentropy(from_logits=True),\n",
    "        distillation_loss_fn=tf.keras.losses.KLDivergence(),\n",
    "        alpha=0.1,\n",
    "        temperature=10,\n",
    "    )\n",
    "    \n",
    "    # Define the ReduceLROnPlateau callback\n",
    "    reduce_lr = tf.keras.callbacks.ReduceLROnPlateau(\n",
    "        monitor='val_sparse_categorical_accuracy',  # Monitor the student loss\n",
    "        factor=0.5,              # Reduce learning rate by a factor of 0.5\n",
    "        patience=5,              # Number of epochs with no improvement after which learning rate will be reduced\n",
    "        min_lr=1e-6,             # Lower bound on the learning rate\n",
    "        verbose=1                # Output reduction process\n",
    "    )\n",
    "    \n",
    "    # Define the ModelCheckpoint callback\n",
    "    checkpoint = tf.keras.callbacks.ModelCheckpoint(\n",
    "        filepath=teacher_name + '_best_model',  # Path to save the model, SavedModel format by default\n",
    "        monitor='val_sparse_categorical_accuracy',  # Monitor the validation accuracy\n",
    "        save_best_only=True,  # Save only the best model\n",
    "        mode='max',  # Mode for the monitored metric, 'max' for accuracy\n",
    "        verbose=1,  # Output saving process\n",
    "        save_format='tf'  # Save in TensorFlow SavedModel format\n",
    "    )\n",
    "\n",
    "    history = distiller.fit(x_train, y_train, epochs=100, batch_size=32, validation_data=(x_test, y_test),  callbacks=[reduce_lr, checkpoint])\n"
   ]
  },
  {
   "cell_type": "code",
   "execution_count": 14,
   "id": "2f384848-6883-4d07-8698-bac62b19b3f9",
   "metadata": {},
   "outputs": [],
   "source": []
  },
  {
   "cell_type": "code",
   "execution_count": 12,
   "id": "bce48a5a-7c3e-423a-b1d9-9eb6fb39ddc5",
   "metadata": {},
   "outputs": [
    {
     "name": "stdout",
     "output_type": "stream",
     "text": [
      "313/313 [==============================] - 3s 7ms/step - loss: 0.0000e+00 - sparse_categorical_accuracy: 0.7826\n",
      "313/313 [==============================] - 2s 5ms/step - loss: 0.0000e+00 - sparse_categorical_accuracy: 0.7745\n",
      "313/313 [==============================] - 1s 4ms/step - loss: 0.0000e+00 - sparse_categorical_accuracy: 0.7753\n",
      "313/313 [==============================] - 2s 6ms/step - loss: 0.0000e+00 - sparse_categorical_accuracy: 0.8184\n",
      "313/313 [==============================] - 4s 12ms/step - loss: 0.0000e+00 - sparse_categorical_accuracy: 0.7775\n",
      "313/313 [==============================] - 2s 5ms/step - loss: 0.0000e+00 - sparse_categorical_accuracy: 0.7804\n",
      "313/313 [==============================] - 3s 8ms/step - loss: 0.0000e+00 - sparse_categorical_accuracy: 0.7801\n",
      "313/313 [==============================] - 2s 5ms/step - loss: 0.0000e+00 - sparse_categorical_accuracy: 0.7788\n",
      "313/313 [==============================] - 2s 5ms/step - loss: 0.0000e+00 - sparse_categorical_accuracy: 0.7903\n",
      "313/313 [==============================] - 2s 6ms/step - loss: 0.0000e+00 - sparse_categorical_accuracy: 0.8029\n"
     ]
    }
   ],
   "source": [
    "teacher_names=[\"MobileNet\", \"ResNet50\", \"MobileNetV2\", \n",
    "               \"DenseNet121\", \"NASNetMobile\", \"MobileNetV3Small\", \n",
    "               \"ResNet101\",  \"MobileNetV3Large\", \"ResNet50V2\", \"ResNet101V2\"]\n",
    "\n",
    "columns = ['model_name', 'accuracy']\n",
    "df = pd.DataFrame(columns=columns)\n",
    "\n",
    "for teacher_name in teacher_names:\n",
    "    # Load the saved model\n",
    "    saved_model_path = teacher_name+'_best_model'  # Path to the directory containing the saved model\n",
    "    \n",
    "    # Load the model\n",
    "    model = tf.keras.models.load_model(saved_model_path)\n",
    "    test_accuracy = model.evaluate(x_test, y_test)\n",
    "    \n",
    "    ## Save results to DataFrame\n",
    "    new_data = pd.DataFrame({'model_name': [teacher_name], 'accuracy': [test_accuracy[1]]})\n",
    "    df = pd.concat([df, new_data], ignore_index=True)\n",
    "\n"
   ]
  },
  {
   "cell_type": "code",
   "execution_count": 16,
   "id": "dd6124e6-2c7e-46de-aa1d-bba1a9f3aac1",
   "metadata": {},
   "outputs": [
    {
     "name": "stdout",
     "output_type": "stream",
     "text": [
      "Test Accuracy results saved to benchmark_results/benchmark_accuracies.csv\n"
     ]
    }
   ],
   "source": [
    "# Create the destination folder for the benchmark results is not exist\n",
    "save_directory = \"benchmark_results\"\n",
    "os.makedirs(save_directory, exist_ok=True)\n",
    "\n",
    "csv_file = save_directory + \"/benchmark_accuracies.csv\"\n",
    "# Save DataFrame to CSV\n",
    "df.to_csv(csv_file, index=False)\n",
    "print(f\"Test Accuracy results saved to {csv_file}\")"
   ]
  },
  {
   "cell_type": "code",
   "execution_count": 6,
   "id": "321ca4f6-e52a-4b57-b675-7cba67a95825",
   "metadata": {},
   "outputs": [],
   "source": [
    "student = create_student_model()"
   ]
  },
  {
   "cell_type": "code",
   "execution_count": 8,
   "id": "474b659c-d42c-4387-8015-1bc172cd2cb5",
   "metadata": {},
   "outputs": [
    {
     "name": "stdout",
     "output_type": "stream",
     "text": [
      "Model: \"student\"\n",
      "_________________________________________________________________\n",
      " Layer (type)                Output Shape              Param #   \n",
      "=================================================================\n",
      " conv2d (Conv2D)             (None, 16, 16, 32)        896       \n",
      "                                                                 \n",
      " leaky_re_lu (LeakyReLU)     (None, 16, 16, 32)        0         \n",
      "                                                                 \n",
      " max_pooling2d (MaxPooling2D  (None, 16, 16, 32)       0         \n",
      " )                                                               \n",
      "                                                                 \n",
      " conv2d_1 (Conv2D)           (None, 8, 8, 64)          18496     \n",
      "                                                                 \n",
      " leaky_re_lu_1 (LeakyReLU)   (None, 8, 8, 64)          0         \n",
      "                                                                 \n",
      " max_pooling2d_1 (MaxPooling  (None, 8, 8, 64)         0         \n",
      " 2D)                                                             \n",
      "                                                                 \n",
      " conv2d_2 (Conv2D)           (None, 4, 4, 64)          36928     \n",
      "                                                                 \n",
      " flatten (Flatten)           (None, 1024)              0         \n",
      "                                                                 \n",
      " dense (Dense)               (None, 10)                10250     \n",
      "                                                                 \n",
      "=================================================================\n",
      "Total params: 66,570\n",
      "Trainable params: 66,570\n",
      "Non-trainable params: 0\n",
      "_________________________________________________________________\n"
     ]
    }
   ],
   "source": [
    "student.summary()"
   ]
  },
  {
   "cell_type": "code",
   "execution_count": null,
   "id": "741741c0-e8ed-4e08-ba94-82bc4b012e41",
   "metadata": {},
   "outputs": [],
   "source": []
  },
  {
   "cell_type": "code",
   "execution_count": null,
   "id": "ca2305c8-55f0-4f70-948a-6dc3e812586e",
   "metadata": {},
   "outputs": [],
   "source": []
  }
 ],
 "metadata": {
  "kernelspec": {
   "display_name": "Python 3 (ipykernel)",
   "language": "python",
   "name": "python3"
  },
  "language_info": {
   "codemirror_mode": {
    "name": "ipython",
    "version": 3
   },
   "file_extension": ".py",
   "mimetype": "text/x-python",
   "name": "python",
   "nbconvert_exporter": "python",
   "pygments_lexer": "ipython3",
   "version": "3.10.14"
  }
 },
 "nbformat": 4,
 "nbformat_minor": 5
}
